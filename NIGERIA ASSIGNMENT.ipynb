{
 "cells": [
  {
   "cell_type": "code",
   "execution_count": 1,
   "id": "7232cc41",
   "metadata": {},
   "outputs": [],
   "source": [
    "#MY LIST\n",
    "West= [\"osun\", \"ogun\", \"ekiti\", \"ondo\", \"sokoto\"]\n",
    "North= [\"kano\", \"yola\", \"jalingo\", \"maiduguri\"]\n",
    "East= [\"enugu\", \"abia\", \"delta\", \"rivers\"]"
   ]
  },
  {
   "cell_type": "code",
   "execution_count": 2,
   "id": "7557eb6e",
   "metadata": {},
   "outputs": [
    {
     "data": {
      "text/plain": [
       "{}"
      ]
     },
     "execution_count": 2,
     "metadata": {},
     "output_type": "execute_result"
    }
   ],
   "source": [
    "#CREATE AN EMPTY DICTIONARY\n",
    "Nigeria= {}\n",
    "Nigeria"
   ]
  },
  {
   "cell_type": "code",
   "execution_count": 3,
   "id": "b376838f",
   "metadata": {},
   "outputs": [],
   "source": [
    "#ADD THE LIST TO DICTIONARY\n",
    "Nigeria[\"West\"]= West\n",
    "Nigeria['North'] = North\n",
    "Nigeria['East'] = East"
   ]
  },
  {
   "cell_type": "code",
   "execution_count": 4,
   "id": "0f05f587",
   "metadata": {},
   "outputs": [
    {
     "data": {
      "text/plain": [
       "{'West': ['osun', 'ogun', 'ekiti', 'ondo', 'sokoto'],\n",
       " 'North': ['kano', 'yola', 'jalingo', 'maiduguri'],\n",
       " 'East': ['enugu', 'abia', 'delta', 'rivers']}"
      ]
     },
     "execution_count": 4,
     "metadata": {},
     "output_type": "execute_result"
    }
   ],
   "source": [
    "#PRINT OUT THE DICTIONARY\n",
    "Nigeria"
   ]
  },
  {
   "cell_type": "code",
   "execution_count": null,
   "id": "42c3c341",
   "metadata": {},
   "outputs": [],
   "source": []
  }
 ],
 "metadata": {
  "kernelspec": {
   "display_name": "Python 3 (ipykernel)",
   "language": "python",
   "name": "python3"
  },
  "language_info": {
   "codemirror_mode": {
    "name": "ipython",
    "version": 3
   },
   "file_extension": ".py",
   "mimetype": "text/x-python",
   "name": "python",
   "nbconvert_exporter": "python",
   "pygments_lexer": "ipython3",
   "version": "3.9.12"
  }
 },
 "nbformat": 4,
 "nbformat_minor": 5
}
