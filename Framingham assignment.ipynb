{
 "cells": [
  {
   "cell_type": "code",
   "execution_count": null,
   "id": "a952de18",
   "metadata": {},
   "outputs": [],
   "source": [
    "conda install numexpr=2.8.4"
   ]
  },
  {
   "cell_type": "code",
   "execution_count": 4,
   "id": "ad1f412c",
   "metadata": {},
   "outputs": [],
   "source": [
    "import pandas as pd"
   ]
  },
  {
   "cell_type": "code",
   "execution_count": 10,
   "id": "0250c40b",
   "metadata": {},
   "outputs": [],
   "source": [
    "df= pd.read_csv(r\"C:\\Users\\TOMORI\\Downloads\\framingham.csv\")"
   ]
  },
  {
   "cell_type": "code",
   "execution_count": 11,
   "id": "fbc2edb1",
   "metadata": {},
   "outputs": [
    {
     "data": {
      "text/html": [
       "<div>\n",
       "<style scoped>\n",
       "    .dataframe tbody tr th:only-of-type {\n",
       "        vertical-align: middle;\n",
       "    }\n",
       "\n",
       "    .dataframe tbody tr th {\n",
       "        vertical-align: top;\n",
       "    }\n",
       "\n",
       "    .dataframe thead th {\n",
       "        text-align: right;\n",
       "    }\n",
       "</style>\n",
       "<table border=\"1\" class=\"dataframe\">\n",
       "  <thead>\n",
       "    <tr style=\"text-align: right;\">\n",
       "      <th></th>\n",
       "      <th>male</th>\n",
       "      <th>age</th>\n",
       "      <th>education</th>\n",
       "      <th>currentSmoker</th>\n",
       "      <th>cigsPerDay</th>\n",
       "      <th>BPMeds</th>\n",
       "      <th>prevalentStroke</th>\n",
       "      <th>prevalentHyp</th>\n",
       "      <th>diabetes</th>\n",
       "      <th>totChol</th>\n",
       "      <th>sysBP</th>\n",
       "      <th>diaBP</th>\n",
       "      <th>BMI</th>\n",
       "      <th>heartRate</th>\n",
       "      <th>glucose</th>\n",
       "      <th>TenYearCHD</th>\n",
       "    </tr>\n",
       "  </thead>\n",
       "  <tbody>\n",
       "    <tr>\n",
       "      <th>0</th>\n",
       "      <td>Male</td>\n",
       "      <td>39</td>\n",
       "      <td>post grad</td>\n",
       "      <td>No</td>\n",
       "      <td>0.0</td>\n",
       "      <td>No</td>\n",
       "      <td>No</td>\n",
       "      <td>No</td>\n",
       "      <td>No</td>\n",
       "      <td>195.0</td>\n",
       "      <td>106.0</td>\n",
       "      <td>70.0</td>\n",
       "      <td>26.97</td>\n",
       "      <td>80.0</td>\n",
       "      <td>77.0</td>\n",
       "      <td>No</td>\n",
       "    </tr>\n",
       "    <tr>\n",
       "      <th>1</th>\n",
       "      <td>Female</td>\n",
       "      <td>46</td>\n",
       "      <td>Secondary Edu</td>\n",
       "      <td>No</td>\n",
       "      <td>0.0</td>\n",
       "      <td>No</td>\n",
       "      <td>No</td>\n",
       "      <td>No</td>\n",
       "      <td>No</td>\n",
       "      <td>250.0</td>\n",
       "      <td>121.0</td>\n",
       "      <td>81.0</td>\n",
       "      <td>28.73</td>\n",
       "      <td>95.0</td>\n",
       "      <td>76.0</td>\n",
       "      <td>No</td>\n",
       "    </tr>\n",
       "    <tr>\n",
       "      <th>2</th>\n",
       "      <td>Male</td>\n",
       "      <td>48</td>\n",
       "      <td>Primary Edu</td>\n",
       "      <td>Yes</td>\n",
       "      <td>20.0</td>\n",
       "      <td>No</td>\n",
       "      <td>No</td>\n",
       "      <td>No</td>\n",
       "      <td>No</td>\n",
       "      <td>245.0</td>\n",
       "      <td>127.5</td>\n",
       "      <td>80.0</td>\n",
       "      <td>25.34</td>\n",
       "      <td>75.0</td>\n",
       "      <td>70.0</td>\n",
       "      <td>No</td>\n",
       "    </tr>\n",
       "    <tr>\n",
       "      <th>3</th>\n",
       "      <td>Female</td>\n",
       "      <td>61</td>\n",
       "      <td>Tertiary Edu</td>\n",
       "      <td>Yes</td>\n",
       "      <td>30.0</td>\n",
       "      <td>No</td>\n",
       "      <td>No</td>\n",
       "      <td>Yes</td>\n",
       "      <td>No</td>\n",
       "      <td>225.0</td>\n",
       "      <td>150.0</td>\n",
       "      <td>95.0</td>\n",
       "      <td>28.58</td>\n",
       "      <td>65.0</td>\n",
       "      <td>103.0</td>\n",
       "      <td>Yes</td>\n",
       "    </tr>\n",
       "    <tr>\n",
       "      <th>4</th>\n",
       "      <td>Female</td>\n",
       "      <td>46</td>\n",
       "      <td>Tertiary Edu</td>\n",
       "      <td>Yes</td>\n",
       "      <td>23.0</td>\n",
       "      <td>No</td>\n",
       "      <td>No</td>\n",
       "      <td>No</td>\n",
       "      <td>No</td>\n",
       "      <td>285.0</td>\n",
       "      <td>130.0</td>\n",
       "      <td>84.0</td>\n",
       "      <td>23.10</td>\n",
       "      <td>85.0</td>\n",
       "      <td>85.0</td>\n",
       "      <td>No</td>\n",
       "    </tr>\n",
       "  </tbody>\n",
       "</table>\n",
       "</div>"
      ],
      "text/plain": [
       "     male  age      education currentSmoker  cigsPerDay BPMeds  \\\n",
       "0    Male   39      post grad            No         0.0     No   \n",
       "1  Female   46  Secondary Edu            No         0.0     No   \n",
       "2    Male   48    Primary Edu           Yes        20.0     No   \n",
       "3  Female   61   Tertiary Edu           Yes        30.0     No   \n",
       "4  Female   46   Tertiary Edu           Yes        23.0     No   \n",
       "\n",
       "  prevalentStroke prevalentHyp diabetes  totChol  sysBP  diaBP    BMI  \\\n",
       "0              No           No       No    195.0  106.0   70.0  26.97   \n",
       "1              No           No       No    250.0  121.0   81.0  28.73   \n",
       "2              No           No       No    245.0  127.5   80.0  25.34   \n",
       "3              No          Yes       No    225.0  150.0   95.0  28.58   \n",
       "4              No           No       No    285.0  130.0   84.0  23.10   \n",
       "\n",
       "   heartRate  glucose TenYearCHD  \n",
       "0       80.0     77.0         No  \n",
       "1       95.0     76.0         No  \n",
       "2       75.0     70.0         No  \n",
       "3       65.0    103.0        Yes  \n",
       "4       85.0     85.0         No  "
      ]
     },
     "execution_count": 11,
     "metadata": {},
     "output_type": "execute_result"
    }
   ],
   "source": [
    "df.head(5)"
   ]
  },
  {
   "cell_type": "code",
   "execution_count": 12,
   "id": "04537384",
   "metadata": {},
   "outputs": [],
   "source": [
    "df.rename(columns= {\"male\": \"gender\"}, inplace=True)"
   ]
  },
  {
   "cell_type": "code",
   "execution_count": 13,
   "id": "72005ed0",
   "metadata": {
    "scrolled": true
   },
   "outputs": [
    {
     "data": {
      "text/plain": [
       "gender               0\n",
       "age                  0\n",
       "education          105\n",
       "currentSmoker        0\n",
       "cigsPerDay          29\n",
       "BPMeds              53\n",
       "prevalentStroke      0\n",
       "prevalentHyp         0\n",
       "diabetes             0\n",
       "totChol             50\n",
       "sysBP                0\n",
       "diaBP                0\n",
       "BMI                 19\n",
       "heartRate            1\n",
       "glucose            388\n",
       "TenYearCHD           0\n",
       "dtype: int64"
      ]
     },
     "execution_count": 13,
     "metadata": {},
     "output_type": "execute_result"
    }
   ],
   "source": [
    "df.isnull().sum()"
   ]
  },
  {
   "cell_type": "code",
   "execution_count": 14,
   "id": "57f58d1d",
   "metadata": {},
   "outputs": [
    {
     "name": "stdout",
     "output_type": "stream",
     "text": [
      "<class 'pandas.core.frame.DataFrame'>\n",
      "RangeIndex: 4240 entries, 0 to 4239\n",
      "Data columns (total 16 columns):\n",
      " #   Column           Non-Null Count  Dtype  \n",
      "---  ------           --------------  -----  \n",
      " 0   gender           4240 non-null   object \n",
      " 1   age              4240 non-null   int64  \n",
      " 2   education        4135 non-null   object \n",
      " 3   currentSmoker    4240 non-null   object \n",
      " 4   cigsPerDay       4211 non-null   float64\n",
      " 5   BPMeds           4187 non-null   object \n",
      " 6   prevalentStroke  4240 non-null   object \n",
      " 7   prevalentHyp     4240 non-null   object \n",
      " 8   diabetes         4240 non-null   object \n",
      " 9   totChol          4190 non-null   float64\n",
      " 10  sysBP            4240 non-null   float64\n",
      " 11  diaBP            4240 non-null   float64\n",
      " 12  BMI              4221 non-null   float64\n",
      " 13  heartRate        4239 non-null   float64\n",
      " 14  glucose          3852 non-null   float64\n",
      " 15  TenYearCHD       4240 non-null   object \n",
      "dtypes: float64(7), int64(1), object(8)\n",
      "memory usage: 530.1+ KB\n"
     ]
    }
   ],
   "source": [
    "df.info()"
   ]
  },
  {
   "cell_type": "code",
   "execution_count": 15,
   "id": "15dde48b",
   "metadata": {},
   "outputs": [],
   "source": [
    "def missing_value(column_name):\n",
    "    if df.dtypes[column_name] == \"O\":\n",
    "        F= df[column_name].mode()[0]\n",
    "    elif df[column_name].mean() > df[column_name].std():\n",
    "        F=df[column_name].mean()\n",
    "    else:\n",
    "        F= df[column_name].median()\n",
    "\n",
    "    df[column_name].fillna(F, inplace=True)\n",
    "\n",
    "missing_value(\"education\")\n",
    "missing_value(\"cigsPerDay\")\n",
    "missing_value(\"BPMeds\")\n",
    "missing_value(\"totChol\")\n",
    "missing_value(\"BMI\")\n",
    "missing_value(\"heartRate\")\n",
    "missing_value(\"glucose\")"
   ]
  },
  {
   "cell_type": "code",
   "execution_count": 16,
   "id": "d49c273f",
   "metadata": {},
   "outputs": [
    {
     "data": {
      "text/plain": [
       "gender             0\n",
       "age                0\n",
       "education          0\n",
       "currentSmoker      0\n",
       "cigsPerDay         0\n",
       "BPMeds             0\n",
       "prevalentStroke    0\n",
       "prevalentHyp       0\n",
       "diabetes           0\n",
       "totChol            0\n",
       "sysBP              0\n",
       "diaBP              0\n",
       "BMI                0\n",
       "heartRate          0\n",
       "glucose            0\n",
       "TenYearCHD         0\n",
       "dtype: int64"
      ]
     },
     "execution_count": 16,
     "metadata": {},
     "output_type": "execute_result"
    }
   ],
   "source": [
    "df.isnull().sum()"
   ]
  },
  {
   "cell_type": "code",
   "execution_count": 132,
   "id": "db335173",
   "metadata": {},
   "outputs": [],
   "source": [
    "# cigs_mean=df[\"cigsPerDay\"].mean()\n"
   ]
  },
  {
   "cell_type": "code",
   "execution_count": 133,
   "id": "c239223d",
   "metadata": {},
   "outputs": [],
   "source": [
    "# cigs_std=df[\"cigsPerDay\"].std()"
   ]
  },
  {
   "cell_type": "code",
   "execution_count": 134,
   "id": "0ecfb358",
   "metadata": {},
   "outputs": [],
   "source": [
    "# cigs_median=df[\"cigsPerDay\"].median()"
   ]
  },
  {
   "cell_type": "code",
   "execution_count": 135,
   "id": "7a85e096",
   "metadata": {},
   "outputs": [],
   "source": [
    "# if cigs_mean > cigs_std in df[\"cigsPerDay\"]:\n",
    "#     df[\"cigsPerDay\"].fillna(df[\"cigsPerDay\"].mean(), inplace=True)\n",
    "# else:\n",
    "#     df[\"cigsPerDay\"].fillna(df[\"cigsPerDay\"].median(), inplace=True)"
   ]
  },
  {
   "cell_type": "code",
   "execution_count": 108,
   "id": "d54d2b1c",
   "metadata": {},
   "outputs": [],
   "source": [
    "# if df[\"cigsPerDay\"].mean() > df[\"cigsPerDay\"].std() in df[\"cigsPerDay\"]:\n",
    "#     df[\"cigsPerDay\"].fillna(df[\"cigsPerDay\"].mean(), inplace=True)\n",
    "# else:\n",
    "#     df[\"cigsPerDay\"].fillna(df[\"cigsPerDay\"].median(), inplace=True)"
   ]
  },
  {
   "cell_type": "code",
   "execution_count": 138,
   "id": "5997ed4a",
   "metadata": {},
   "outputs": [],
   "source": [
    "# if df.dtypes.BMI == \"O\":\n",
    "#     F= df.BMI.mode()\n",
    "# elif df.BMI.mean() > df.BMI.std():\n",
    "#     F=df.BMI.mean()\n",
    "# else:\n",
    "#     F= df.BMI.median()\n"
   ]
  },
  {
   "cell_type": "code",
   "execution_count": 141,
   "id": "879f1118",
   "metadata": {},
   "outputs": [],
   "source": [
    "# df.BMI.fillna(F, inplace = True)"
   ]
  },
  {
   "cell_type": "code",
   "execution_count": null,
   "id": "553873fd",
   "metadata": {},
   "outputs": [],
   "source": []
  }
 ],
 "metadata": {
  "kernelspec": {
   "display_name": "Python 3 (ipykernel)",
   "language": "python",
   "name": "python3"
  },
  "language_info": {
   "codemirror_mode": {
    "name": "ipython",
    "version": 3
   },
   "file_extension": ".py",
   "mimetype": "text/x-python",
   "name": "python",
   "nbconvert_exporter": "python",
   "pygments_lexer": "ipython3",
   "version": "3.9.12"
  }
 },
 "nbformat": 4,
 "nbformat_minor": 5
}
